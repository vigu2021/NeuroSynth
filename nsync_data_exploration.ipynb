{
 "cells": [
  {
   "cell_type": "code",
   "execution_count": 140,
   "metadata": {},
   "outputs": [],
   "source": [
    "import pandas as pd\n",
    "import matplotlib.pyplot as plt\n",
    "import seaborn as sns\n",
    "import os \n",
    "import json\n",
    "import numpy as np\n",
    "from scipy.stats import normaltest,kruskal,chi2_contingency\n"
   ]
  },
  {
   "cell_type": "markdown",
   "metadata": {},
   "source": [
    "## Load json files  for train/val/test sets and initalised audio file paths"
   ]
  },
  {
   "cell_type": "code",
   "execution_count": 123,
   "metadata": {},
   "outputs": [],
   "source": [
    "train_json_path =  r\"D:\\Nsynth dataset\\train\\nsynth-train\\examples.json\"\n",
    "val_json_path = r\"D:\\Nsynth dataset\\val\\nsynth-valid\\examples.json\"\n",
    "test_json_path = r\"D:\\Nsynth dataset\\test\\nsynth-test\\examples.json\"\n",
    "\n",
    "train_audio_folder_path = r\"D:\\Nsynth dataset\\train\\nsynth-train\\audio\"\n",
    "val_audio_folder_path = r\"D:\\Nsynth dataset\\val\\nsynth-valid\\audio\"\n",
    "test_audio_folder_path = r\"D:\\Nsynth dataset\\test\\nsynth-test\\audio\"\n",
    "\n"
   ]
  },
  {
   "cell_type": "markdown",
   "metadata": {},
   "source": [
    "## Read the json file and see if labels are consistent with json file (Data quality check)"
   ]
  },
  {
   "cell_type": "code",
   "execution_count": 124,
   "metadata": {},
   "outputs": [],
   "source": [
    "\n",
    " \n",
    " #Load the json file and convert to dictionary\n",
    "training_dict = json.load(open(train_json_path))\n",
    "validation_dict = json.load(open(val_json_path))\n",
    "testing_dict = json.load(open(test_json_path))\n",
    "\n",
    "\n",
    "#Check the audio files in the audio folder\n",
    "training_audio_files = os.listdir(train_audio_folder_path)\n",
    "validation_audio_files = os.listdir(val_audio_folder_path)\n",
    "testing_audio_files = os.listdir(test_audio_folder_path)\n",
    "\n"
   ]
  },
  {
   "cell_type": "code",
   "execution_count": null,
   "metadata": {},
   "outputs": [],
   "source": [
    "def check_audio_files(audio_label_dict, audio_folder_path):\n",
    "    #Check if the number of labels and audio files are the same\n",
    "    no_labels = len(audio_label_dict)\n",
    "    no_audio_files = len(audio_folder_path)\n",
    "    if no_labels != no_audio_files:\n",
    "        print(f\"Inconsistent number of labels and audio files\")\n",
    "    \n",
    "    #Count the number of files with different extensions\n",
    "    ext_counts = {}\n",
    "    #Check if the labels are consistent with the audio files\n",
    "    for audiofile in audio_folder_path:\n",
    "        audio_file,ext = os.path.splitext(audiofile)\n",
    "        if ext not in ext_counts:\n",
    "            ext_counts[ext] = 0\n",
    "        ext_counts[ext] += 1\n",
    "\n",
    "        if audio_file not in audio_label_dict:\n",
    "            print(f\"Audio file {audio_file} not in json file\")\n",
    "            print(\"Test failed\")\n",
    "            return False\n",
    "        \n",
    "    print(\"Test passed\")\n",
    "    print([(key,f\"{values} files\") for key,values in ext_counts.items()])\n",
    "    return True\n",
    "\n",
    "\n",
    "\n",
    "\n",
    "check_audio_files(training_dict, training_audio_files)  \n",
    "check_audio_files(validation_dict, validation_audio_files)\n",
    "check_audio_files(testing_dict, testing_audio_files)\n",
    "\n",
    "    \n",
    "\n"
   ]
  },
  {
   "cell_type": "markdown",
   "metadata": {},
   "source": [
    "## Convert to dict -> dataframe and conduct descriptive analysis"
   ]
  },
  {
   "cell_type": "code",
   "execution_count": 126,
   "metadata": {},
   "outputs": [],
   "source": [
    "# Convert dict to dataframe\n",
    "training_df = pd.DataFrame(training_dict).transpose()\n",
    "validation_df = pd.DataFrame(validation_dict).transpose()\n",
    "testing_df = pd.DataFrame(testing_dict).transpose()\n",
    "\n",
    "\n",
    "#Set the index name to sample\n",
    "training_df.index.name,validation_df.index.name,testing_df.index.name = \"sample\",\"sample\",\"sample\"\n"
   ]
  },
  {
   "cell_type": "code",
   "execution_count": null,
   "metadata": {},
   "outputs": [],
   "source": [
    "#Check if the number of columns are the same\n",
    "print(f\"Number of columns: {training_df.shape[1]}\" if training_df.shape[1] == validation_df.shape[1] == testing_df.shape[1] else \n",
    "      \"Number of columns not equal in training, validation, and testing sets\")\n",
    "#Check the column names\n",
    "print(f\"The columns are: {training_df.columns}\")\n",
    "\n",
    "\n",
    "print(f\"The training set has {training_df.isnull().sum().sum()} null values\")\n",
    "print(f\"The validation set has {validation_df.isnull().sum().sum()} null values\")\n",
    "print(f\"The testing set has {testing_df.isnull().sum().sum()} null values\")\n",
    "\n",
    "\n",
    "\n",
    "\n",
    "\n"
   ]
  },
  {
   "cell_type": "code",
   "execution_count": 128,
   "metadata": {},
   "outputs": [],
   "source": [
    "# Get unique instrument counts as sets for easy comparison\n",
    "training_counts = training_df[\"instrument_str\"].value_counts().index\n",
    "validation_counts = validation_df[\"instrument_str\"].value_counts().index\n",
    "testing_counts = testing_df[\"instrument_str\"].value_counts().index\n",
    "\n",
    "# Check if a value in training is missing from validation or testing\n",
    "for value in training_counts:\n",
    "    if value in validation_counts and value in testing_counts:\n",
    "        print(value)\n",
    "\n",
    "\n",
    "#If none is output, then the instrument_str is consistent in all three sets as training should not contain any instrument_str that is in validation or testing"
   ]
  },
  {
   "cell_type": "code",
   "execution_count": null,
   "metadata": {},
   "outputs": [],
   "source": [
    "training_counts = training_df[\"instrument\"].value_counts().index\n",
    "validation_counts = validation_df[\"instrument\"].value_counts().index\n",
    "testing_counts = testing_df[\"instrument\"].value_counts().index\n",
    "\n",
    "# Check if a value in training is missing from validation or testing\n",
    "for value in training_counts:\n",
    "    if value in validation_counts or value in testing_counts:\n",
    "        print(value)\n",
    "\n",
    "\n",
    "print((f\"The training set has {len(training_counts)} unique instruments\" ))\n",
    "print((f\"The validation set has {len(validation_counts)} unique instruments\"))\n",
    "print((f\"The testing set has {len(testing_counts)} unique instruments\"))\n",
    "\n",
    "\n",
    "if set(validation_df[\"instrument\"]) == (set(testing_df[\"instrument\"])):\n",
    "    print(\"The validation and testing sets have the same instruments\")\n",
    "else:\n",
    "    print(\"The validation and testing sets have different instruments\")\n",
    "\n",
    "\n",
    "\n",
    "\n"
   ]
  },
  {
   "cell_type": "code",
   "execution_count": null,
   "metadata": {},
   "outputs": [],
   "source": [
    "\n",
    "\n",
    "#Analysing pitch in training set\n",
    "pitch = training_df['pitch']\n",
    "\n",
    "print(f\"The minimum pitch is {pitch.min()}\")\n",
    "print(f\"The maximum pitch is {pitch.max()}\")\n",
    "print(f\"The mean pitch is {pitch.mean()}\")\n",
    "print(f\"The median pitch is {pitch.median()}\")\n",
    "print(f\"The standard deviation of the pitch is {pitch.std()}\")\n",
    "\n",
    "\n",
    "#Plotting the pitch distribution\n",
    "plt.figure(figsize=(10,5))\n",
    "plt.hist(pitch, bins=range(0, 130, 1), edgecolor='black', alpha=0.7)\n",
    "plt.title('Pitch Distribution in training seT')\n",
    "plt.xlabel('Pitch')\n",
    "plt.ylabel('Frequency')\n",
    "plt.show()      \n",
    "\n",
    "\n",
    "#Notice that the pitch is symmetrically distributed around 60(ignoring the outliers)\n",
    "\n",
    "\n",
    "#Looking at the outliers can see in the visuale\n",
    "pitch_counts = pitch.value_counts()\n",
    "print(pitch_counts[:30])\n",
    "\n",
    "\n",
    "\n",
    "\n"
   ]
  },
  {
   "cell_type": "code",
   "execution_count": null,
   "metadata": {},
   "outputs": [],
   "source": [
    "#Correlation between instrument_family and pitch(not the best way to do it but quick way check)\n",
    "instrument_family = training_df['instrument_family']\n",
    "correlation_value = instrument_family.corr(pitch)\n",
    "print(f\"Correlation between instrument_family and pitch: {correlation_value}\")\n",
    "\n",
    "training_df['pitch'] = training_df['pitch'].astype(float)\n",
    "\n",
    "#Statistical test to check if the pitch is different for different instrument_family\n",
    "\n",
    "# Perform D'Agostino's K-squared test\n",
    "stat, p = normaltest(training_df['pitch'])\n",
    "\n",
    "print(f\"D’Agostino-K² Test Statistic: {stat:.4f}\")\n",
    "print(f\"D’Agostino-K² p-value: {p:.4e}\")\n",
    "\n",
    "if p < 0.05:\n",
    "    print(\"Data is NOT normally distributed ❌\")\n",
    "else:\n",
    "    print(\"Data is normally distributed ✅\")\n",
    "\n",
    "\n",
    "#As pitch not normally distributed, we hae to use non-parametric test\n",
    "\n",
    "# Perform Kruskal-Wallis test for all instrument families\n",
    "kruskal_stat, kruskal_p = kruskal(\n",
    "    *[training_df.loc[training_df[\"instrument_family_str\"] == fam, \"pitch\"]\n",
    "      for fam in training_df[\"instrument_family_str\"].unique()]\n",
    ")\n",
    "\n",
    "print(f\"Kruskal-Wallis Test Statistic: {kruskal_stat:.4f}\")\n",
    "print(f\"Kruskal-Wallis Test p-value: {kruskal_p:.4e}\")\n",
    "\n",
    "if kruskal_p < 0.05:\n",
    "    print(\"Significant difference in pitch across instrument families ❌\")\n",
    "else:\n",
    "    print(\"No significant difference in pitch across instrument families ✅\")\n",
    "\n",
    "\n",
    "\n",
    "\n",
    "\n",
    "\n",
    "plt.figure(figsize=(12, 6))\n",
    "sns.violinplot(x=\"velocity\", y=\"pitch\", data=training_df)\n",
    "plt.xlabel(\"Velocity\")\n",
    "plt.ylabel(\"Pitch\")\n",
    "plt.title(\"Pitch Density Across Velocity Levels for training set\")\n",
    "plt.show()\n"
   ]
  },
  {
   "cell_type": "code",
   "execution_count": null,
   "metadata": {},
   "outputs": [],
   "source": [
    "# Correlation pitch and velocity\n",
    "training_df['velocity'] = training_df['velocity'].astype(float)\n",
    "velocity = training_df['velocity']\n",
    "\n",
    "print(f\"The velocity values are quite evenly distributed: {velocity.value_counts()}\")\n",
    "correlation_value = velocity.corr(pitch)\n",
    "print(f\"Correlation between velocity and pitch: {correlation_value}\")\n",
    "\n",
    "\n",
    "plt.figure(figsize=(12, 6))\n",
    "sns.violinplot(x=\"velocity\", y=\"pitch\", data=training_df)\n",
    "plt.xlabel(\"Velocity\")\n",
    "plt.ylabel(\"Pitch\")\n",
    "plt.title(\"Pitch Density Across Velocity Levels\")\n",
    "plt.show()\n",
    "\n",
    "#Can see visually that pitch and velocity are not correlated and the distrbution of pitch is similar across all velocity levels\n",
    "\n",
    "\n"
   ]
  },
  {
   "cell_type": "code",
   "execution_count": null,
   "metadata": {},
   "outputs": [],
   "source": [
    "#Want to see if qualities are different for different instrument families\n",
    "\n",
    "# Convert qualities list into separate columns (one-hot encoding)\n",
    "qualities_df = training_df[\"qualities\"].apply(pd.Series)\n",
    "qualities_df.columns = [f\"quality_{i}\" for i in range(qualities_df.shape[1])]\n",
    "\n",
    "# Add instrument family column for comparison\n",
    "qualities_df[\"instrument_family\"] = training_df[\"instrument_family\"]\n",
    "\n",
    "# Count the occurrences of each quality for each instrument family\n",
    "quality_counts = qualities_df.groupby(\"instrument_family\").sum()\n",
    "\n",
    "\n",
    "print(quality_counts)\n",
    "\n",
    "\n",
    "# Run chi-square test on the quality counts\n",
    "chi2_stat, p, dof, expected = chi2_contingency(quality_counts)\n",
    "\n",
    "print(f\"Chi-Square Test Statistic: {chi2_stat:.4f}\")\n",
    "print(f\"Chi-Square Test p-value: {p:.4e}\")\n",
    "\n",
    "# Interpretation\n",
    "if p < 0.05:\n",
    "    print(\"There is a significant relationship between qualities and instrument families ❌\")\n",
    "else:\n",
    "    print(\"No significant relationship between qualities and instrument families ✅\")\n"
   ]
  },
  {
   "cell_type": "code",
   "execution_count": null,
   "metadata": {},
   "outputs": [],
   "source": [
    "training_df"
   ]
  },
  {
   "cell_type": "code",
   "execution_count": null,
   "metadata": {},
   "outputs": [],
   "source": [
    "print(\"Hello\")"
   ]
  },
  {
   "cell_type": "code",
   "execution_count": null,
   "metadata": {},
   "outputs": [],
   "source": []
  }
 ],
 "metadata": {
  "kernelspec": {
   "display_name": "venv",
   "language": "python",
   "name": "python3"
  },
  "language_info": {
   "codemirror_mode": {
    "name": "ipython",
    "version": 3
   },
   "file_extension": ".py",
   "mimetype": "text/x-python",
   "name": "python",
   "nbconvert_exporter": "python",
   "pygments_lexer": "ipython3",
   "version": "3.13.2"
  }
 },
 "nbformat": 4,
 "nbformat_minor": 2
}
